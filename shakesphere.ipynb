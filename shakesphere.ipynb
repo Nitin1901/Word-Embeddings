{
  "nbformat": 4,
  "nbformat_minor": 0,
  "metadata": {
    "colab": {
      "name": "shakesphere.ipynb",
      "provenance": [],
      "authorship_tag": "ABX9TyMutbQFHEF8zOjOvT7OdiE7",
      "include_colab_link": true
    },
    "kernelspec": {
      "name": "python3",
      "display_name": "Python 3"
    }
  },
  "cells": [
    {
      "cell_type": "markdown",
      "metadata": {
        "id": "view-in-github",
        "colab_type": "text"
      },
      "source": [
        "<a href=\"https://colab.research.google.com/github/Nitin1901/Word-Embeddings/blob/master/shakesphere.ipynb\" target=\"_parent\"><img src=\"https://colab.research.google.com/assets/colab-badge.svg\" alt=\"Open In Colab\"/></a>"
      ]
    },
    {
      "cell_type": "code",
      "metadata": {
        "id": "No2-weAQ6fcB",
        "colab_type": "code",
        "colab": {}
      },
      "source": [
        "from __future__ import print_function\n",
        "from keras.callbacks import LambdaCallback\n",
        "from keras.models import Model, load_model, Sequential\n",
        "from keras.layers import Dense, Activation, Dropout, Input, Masking\n",
        "from keras.layers import LSTM\n",
        "from keras.utils.data_utils import get_file\n",
        "from keras.preprocessing.sequence import pad_sequences\n",
        "import numpy as np\n",
        "import random\n",
        "import sys\n",
        "import io"
      ],
      "execution_count": 2,
      "outputs": []
    },
    {
      "cell_type": "code",
      "metadata": {
        "id": "2T3KYhnLIqQj",
        "colab_type": "code",
        "colab": {}
      },
      "source": [
        "def build_data(text, Tx = 40, stride = 3):\n",
        "    \n",
        "    \"\"\"\n",
        "    Create a training set by scanning a window of size Tx over the text corpus, with stride 3.\n",
        "    \n",
        "    Arguments:\n",
        "    text -- string, corpus of Shakespearian poem\n",
        "    Tx -- sequence length, number of time-steps (or characters) in one training example\n",
        "    stride -- how much the window shifts itself while scanning\n",
        "    \n",
        "    Returns:\n",
        "    X -- list of training examples\n",
        "    Y -- list of training labels\n",
        "    \"\"\"\n",
        "    \n",
        "    X = []\n",
        "    Y = []\n",
        "\n",
        "    for i in range(0, len(text) - Tx, stride):\n",
        "        X.append(text[i: i + Tx])\n",
        "        Y.append(text[i + Tx])\n",
        "    \n",
        "    print('number of training examples:', len(X))\n",
        "    \n",
        "    return X, Y"
      ],
      "execution_count": 3,
      "outputs": []
    },
    {
      "cell_type": "code",
      "metadata": {
        "id": "84gzakQiIwEH",
        "colab_type": "code",
        "colab": {}
      },
      "source": [
        "def vectorization(X, Y, n_x, char_indices, Tx = 40):\n",
        "    \n",
        "    \"\"\"\n",
        "    Convert X and Y (lists) into arrays to be given to a recurrent neural network.\n",
        "    \n",
        "    Arguments:\n",
        "    X -- \n",
        "    Y -- \n",
        "    Tx -- integer, sequence length\n",
        "    \n",
        "    Returns:\n",
        "    x -- array of shape (m, Tx, len(chars))\n",
        "    y -- array of shape (m, len(chars))\n",
        "    \"\"\"\n",
        "    \n",
        "    m = len(X)\n",
        "    x = np.zeros((m, Tx, n_x), dtype=np.bool)\n",
        "    y = np.zeros((m, n_x), dtype=np.bool)\n",
        "    for i, sentence in enumerate(X):\n",
        "        for t, char in enumerate(sentence):\n",
        "            x[i, t, char_indices[char]] = 1\n",
        "        y[i, char_indices[Y[i]]] = 1\n",
        "        \n",
        "    return x, y "
      ],
      "execution_count": 4,
      "outputs": []
    },
    {
      "cell_type": "code",
      "metadata": {
        "id": "nK_wjCbSIzWi",
        "colab_type": "code",
        "colab": {}
      },
      "source": [
        "def sample(preds, temperature=1.0):\n",
        "    \n",
        "    # helper function to sample an index from a probability array\n",
        "    preds = np.asarray(preds).astype('float64')\n",
        "    preds = np.log(preds) / temperature\n",
        "    exp_preds = np.exp(preds)\n",
        "    preds = exp_preds / np.sum(exp_preds)\n",
        "    probas = np.random.multinomial(1, preds, 1)\n",
        "    out = np.random.choice(range(len(chars)), p = probas.ravel())\n",
        "    return out"
      ],
      "execution_count": 5,
      "outputs": []
    },
    {
      "cell_type": "code",
      "metadata": {
        "id": "Cg6F1_WQI2uM",
        "colab_type": "code",
        "colab": {}
      },
      "source": [
        "def generate_output():\n",
        "\n",
        "    generated = ''\n",
        "    usr_input = input(\"Write the beginning of your poem, the Shakespeare machine will complete it. Your input is: \")\n",
        "    sentence = ('{0:0>' + str(Tx) + '}').format(usr_input).lower()\n",
        "    generated += usr_input \n",
        "\n",
        "    sys.stdout.write(\"\\n\\nHere is your poem: \\n\\n\") \n",
        "    sys.stdout.write(usr_input)\n",
        "    for i in range(400):\n",
        "\n",
        "        x_pred = np.zeros((1, Tx, len(chars)))\n",
        "\n",
        "        for t, char in enumerate(sentence):\n",
        "            if char != '0':\n",
        "                x_pred[0, t, char_indices[char]] = 1.\n",
        "\n",
        "        preds = model.predict(x_pred, verbose=0)[0]\n",
        "        next_index = sample(preds, temperature = 1.0)\n",
        "        next_char = indices_char[next_index]\n",
        "\n",
        "        generated += next_char\n",
        "        sentence = sentence[1:] + next_char\n",
        "\n",
        "        sys.stdout.write(next_char)\n",
        "        sys.stdout.flush()\n",
        "\n",
        "        if next_char == '\\n':\n",
        "            continue"
      ],
      "execution_count": 6,
      "outputs": []
    },
    {
      "cell_type": "code",
      "metadata": {
        "id": "8dEIJvvzI_1-",
        "colab_type": "code",
        "colab": {
          "base_uri": "https://localhost:8080/",
          "height": 34
        },
        "outputId": "6d2f41b7-14ff-4e4d-959c-bec3df03075e"
      },
      "source": [
        "print(\"Loading text data...\")\n",
        "text = io.open('/content/shakesphere_sonnets.txt', encoding='utf-8').read().lower()"
      ],
      "execution_count": 15,
      "outputs": [
        {
          "output_type": "stream",
          "text": [
            "Loading text data...\n"
          ],
          "name": "stdout"
        }
      ]
    },
    {
      "cell_type": "code",
      "metadata": {
        "id": "XJvT4X2nJI2-",
        "colab_type": "code",
        "colab": {}
      },
      "source": [
        "Tx = 40\n",
        "chars = sorted(list(set(text)))\n",
        "char_indices = dict((c, i) for i, c in enumerate(chars))\n",
        "indices_char = dict((i, c) for i, c in enumerate(chars))"
      ],
      "execution_count": 16,
      "outputs": []
    },
    {
      "cell_type": "code",
      "metadata": {
        "id": "F5EVGUwMKYWm",
        "colab_type": "code",
        "colab": {
          "base_uri": "https://localhost:8080/",
          "height": 85
        },
        "outputId": "5d3aad20-84c6-425d-8b33-7c62c6a6d929"
      },
      "source": [
        "print(\"Creating training set...\")\n",
        "X, Y = build_data(text, Tx, stride = 3)\n",
        "print(\"Vectorizing training set...\")\n",
        "x, y = vectorization(X, Y, n_x = len(chars), char_indices = char_indices) \n",
        "print(\"Loading model...\")"
      ],
      "execution_count": 17,
      "outputs": [
        {
          "output_type": "stream",
          "text": [
            "Creating training set...\n",
            "number of training examples: 31412\n",
            "Vectorizing training set...\n",
            "Loading model...\n"
          ],
          "name": "stdout"
        }
      ]
    },
    {
      "cell_type": "code",
      "metadata": {
        "id": "yQ4aFW0xKbHp",
        "colab_type": "code",
        "colab": {}
      },
      "source": [
        "model = load_model('/content/model_shakespeare_kiank_350_epoch.h5')"
      ],
      "execution_count": 18,
      "outputs": []
    },
    {
      "cell_type": "code",
      "metadata": {
        "id": "JaUv6VGfKya1",
        "colab_type": "code",
        "colab": {
          "base_uri": "https://localhost:8080/",
          "height": 289
        },
        "outputId": "79e405a1-2e3e-48b5-8bed-633e37dc2766"
      },
      "source": [
        "generate_output()"
      ],
      "execution_count": 19,
      "outputs": [
        {
          "output_type": "stream",
          "text": [
            "Write the beginning of your poem, the Shakespeare machine will complete it. Your input is: Hey this is nice\n",
            "\n",
            "\n",
            "Here is your poem: \n",
            "\n",
            "Hey this is nice:\n",
            "let thou my gots which sthand thee mayst,\n",
            "of miseures form the worl whe his to be,\n",
            "and to doth live''s what meriry hour kpee,\n",
            "when caurt of the hery are world, who hone swret,\n",
            "which i for shall his grown for thy rank,\n",
            "\n",
            "wort shine then love my fass ingored leves,\n",
            "whone my copprestid for thy dilalsed, this barcels,\n",
            "and from the wand of my stlenting song, in yee,\n",
            "of memer's land, and that ond eppre"
          ],
          "name": "stdout"
        }
      ]
    },
    {
      "cell_type": "code",
      "metadata": {
        "id": "pGxFMv9xK8mN",
        "colab_type": "code",
        "colab": {}
      },
      "source": [
        ""
      ],
      "execution_count": null,
      "outputs": []
    }
  ]
}